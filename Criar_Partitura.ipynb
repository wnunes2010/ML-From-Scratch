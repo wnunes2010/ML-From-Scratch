{
  "nbformat": 4,
  "nbformat_minor": 0,
  "metadata": {
    "colab": {
      "provenance": [],
      "authorship_tag": "ABX9TyO2Dd07TNoNAb2sg/LW4lRO",
      "include_colab_link": true
    },
    "kernelspec": {
      "name": "python3",
      "display_name": "Python 3"
    },
    "language_info": {
      "name": "python"
    }
  },
  "cells": [
    {
      "cell_type": "markdown",
      "metadata": {
        "id": "view-in-github",
        "colab_type": "text"
      },
      "source": [
        "<a href=\"https://colab.research.google.com/github/wnunes2010/ML-From-Scratch/blob/master/Criar_Partitura.ipynb\" target=\"_parent\"><img src=\"https://colab.research.google.com/assets/colab-badge.svg\" alt=\"Open In Colab\"/></a>"
      ]
    },
    {
      "cell_type": "code",
      "execution_count": 17,
      "metadata": {
        "id": "T8OCMcHfToyX"
      },
      "outputs": [],
      "source": [
        "from music21 import stream, note, chord, metadata, meter, key, tempo, instrument"
      ]
    },
    {
      "cell_type": "code",
      "source": [
        "# Criar partitura\n",
        "score = stream.Score()\n",
        "score.metadata = metadata.Metadata(title=\"Estrelinha Antônia\", composer=\"Wagner Nunes\")\n"
      ],
      "metadata": {
        "id": "RuSIl204Tyqw"
      },
      "execution_count": 18,
      "outputs": []
    },
    {
      "cell_type": "code",
      "source": [
        "# VOZ\n",
        "part_voice = stream.Part()\n",
        "part_voice.append(instrument.Soprano())\n",
        "part_voice.append(tempo.MetronomeMark(number=72))\n",
        "part_voice.append(key.Key('G'))\n",
        "part_voice.append(meter.TimeSignature('4/4'))"
      ],
      "metadata": {
        "id": "rdreCtSDT9NU"
      },
      "execution_count": 19,
      "outputs": []
    },
    {
      "cell_type": "code",
      "source": [
        "# VIOLÃO\n",
        "part_guitar = stream.Part()\n",
        "part_guitar.append(instrument.AcousticGuitar())\n",
        "part_guitar.append(tempo.MetronomeMark(number=72))\n",
        "part_guitar.append(key.Key('G'))\n",
        "part_guitar.append(meter.TimeSignature('4/4'))"
      ],
      "metadata": {
        "id": "Rrz_DYhuUDHD"
      },
      "execution_count": 20,
      "outputs": []
    },
    {
      "cell_type": "code",
      "source": [
        "# Acordes do violão\n",
        "chords_sequence = [\n",
        "    ['G'], ['D'], ['E-2 m'], ['C'],\n",
        "    ['G'], ['D'], ['E-2 m'], ['C'],\n",
        "    ['G'], ['D'], ['E-2 m'], ['C'],\n",
        "    ['G'], ['D'], ['C'], ['D']\n",
        "]"
      ],
      "metadata": {
        "id": "x_RKOHYEUIRI"
      },
      "execution_count": 21,
      "outputs": []
    },
    {
      "cell_type": "code",
      "source": [
        "for chord_name_list in chords_sequence:\n",
        "    chord_name = chord_name_list[0]\n",
        "    if 'm' in chord_name:\n",
        "        # Handle minor chords\n",
        "        root_note_name = chord_name.replace('m', '').strip()\n",
        "        # Assuming a simple triad for now (root, minor third, perfect fifth)\n",
        "        if 'E-2' in root_note_name:\n",
        "             # Explicitly define E minor in octave 2\n",
        "             ch = chord.Chord(['E-2', 'G-2', 'B-2'])\n",
        "        else:\n",
        "            # For other minor chords, attempt to build from root\n",
        "            root_note = note.Note(root_note_name)\n",
        "            third_note = root_note.transpose('m3')\n",
        "            fifth_note = root_note.transpose('P5')\n",
        "            ch = chord.Chord([root_note, third_note, fifth_note])\n",
        "\n",
        "    else:\n",
        "        # Handle major chords (assuming major if 'm' is not present)\n",
        "        root_note_name = chord_name.strip()\n",
        "        # Assuming a simple triad for now (root, major third, perfect fifth)\n",
        "        root_note = note.Note(root_note_name)\n",
        "        third_note = root_note.transpose('M3')\n",
        "        fifth_note = root_note.transpose('P5')\n",
        "        ch = chord.Chord([root_note, third_note, fifth_note])\n",
        "\n",
        "    ch.quarterLength = 4\n",
        "    part_guitar.append(ch)"
      ],
      "metadata": {
        "id": "nSNY1aC1UOje"
      },
      "execution_count": 22,
      "outputs": []
    },
    {
      "cell_type": "code",
      "source": [
        "# Melodia vocal com letra\n",
        "melody_notes = [\n",
        "    (\"D5\", \"Nas-\", 1), (\"E5\", \"ceu\", 1), (\"D5\", \"u-\", 1), (\"B4\", \"ma\", 1),\n",
        "    (\"C5\", \"luz\", 1), (\"B4\", \"no\", 1), (\"A4\", \"meu\", 1), (\"G4\", \"céu\", 1),\n",
        "\n",
        "    (\"D5\", \"Bril-\", 1), (\"E5\", \"han-\", 1), (\"D5\", \"do\", 1), (\"B4\", \"mais\", 1),\n",
        "    (\"C5\", \"for-\", 1), (\"B4\", \"te\", 1), (\"A4\", \"que\", 1), (\"G4\", \"o sol\", 1),\n",
        "\n",
        "    (\"D5\", \"An-\", 1), (\"E5\", \"tô-\", 1), (\"D5\", \"ni-\", 1), (\"B4\", \"a\", 1),\n",
        "    (\"C5\", \"meu\", 1), (\"B4\", \"do-\", 1), (\"A4\", \"ce\", 1), (\"G4\", \"fa-rol\", 1),\n",
        "\n",
        "    (\"D5\", \"De\", 1), (\"E5\", \"a-\", 1), (\"D5\", \"mor\", 1), (\"B4\", \"que\", 1),\n",
        "    (\"C5\", \"a\", 1), (\"B4\", \"vi-\", 1), (\"A4\", \"da\", 1), (\"G4\", \"me deu\", 1),\n",
        "]\n",
        "\n"
      ],
      "metadata": {
        "id": "Lc1L7D-pVcp4"
      },
      "execution_count": 23,
      "outputs": []
    },
    {
      "cell_type": "code",
      "source": [
        "for pitch, lyric_text, length in melody_notes:\n",
        "    n = note.Note(pitch, quarterLength=length)\n",
        "    n.lyric = lyric_text\n",
        "    part_voice.append(n)\n",
        "\n",
        "# Adicionando partes ao score\n",
        "score.append(part_voice)\n",
        "score.append(part_guitar)\n",
        "\n",
        "# Exportar como MusicXML\n",
        "score.write(\"musicxml\", fp=\"Estrelinha_Antonia.musicxml\")"
      ],
      "metadata": {
        "colab": {
          "base_uri": "https://localhost:8080/"
        },
        "id": "94MStmW4VmWm",
        "outputId": "72303b51-39ab-47d5-f414-accb195afae0"
      },
      "execution_count": 24,
      "outputs": [
        {
          "output_type": "execute_result",
          "data": {
            "text/plain": [
              "PosixPath('/content/Estrelinha_Antonia.musicxml')"
            ]
          },
          "metadata": {},
          "execution_count": 24
        }
      ]
    }
  ]
}